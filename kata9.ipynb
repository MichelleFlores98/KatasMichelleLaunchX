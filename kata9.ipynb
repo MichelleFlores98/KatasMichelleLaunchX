{
 "cells": [
  {
   "cell_type": "code",
   "execution_count": null,
   "metadata": {},
   "outputs": [],
   "source": []
  },
  {
   "cell_type": "markdown",
   "metadata": {},
   "source": [
    "## Ejercicio 1: Uso de funciones en Python"
   ]
  },
  {
   "cell_type": "markdown",
   "metadata": {},
   "source": [
    "### Trabajar con argumentos en funciones"
   ]
  },
  {
   "cell_type": "code",
   "execution_count": 12,
   "metadata": {},
   "outputs": [],
   "source": [
    "def informe_combustible(tanque1, tanque2, tanque3):\n",
    "    promedio= (tanque1 + tanque2 + tanque3) / 3\n",
    "    return f'''El informe es:\n",
    "    Tanque1: {tanque1}%\n",
    "    Tanque2: {tanque2}%\n",
    "    Tanque3: {tanque3}% \n",
    "    Promedio: {promedio}%\n",
    "    '''"
   ]
  },
  {
   "cell_type": "code",
   "execution_count": 13,
   "metadata": {},
   "outputs": [
    {
     "name": "stdout",
     "output_type": "stream",
     "text": [
      "El informe es:\n",
      "    Tanque1: 75%\n",
      "    Tanque2: 90%\n",
      "    Tanque3: 70% \n",
      "    Promedio: 78.33333333333333%\n",
      "    \n"
     ]
    }
   ],
   "source": [
    "print(informe_combustible(75, 90, 70))"
   ]
  },
  {
   "cell_type": "code",
   "execution_count": 8,
   "metadata": {},
   "outputs": [
    {
     "data": {
      "text/plain": [
       "78.33333333333333"
      ]
     },
     "execution_count": 8,
     "metadata": {},
     "output_type": "execute_result"
    }
   ],
   "source": [
    "def promedio(valores):\n",
    "    total = sum(valores)\n",
    "    numero_tanques = len(valores)\n",
    "    return total / numero_tanques\n",
    "promedio([75, 90, 70]) \n"
   ]
  },
  {
   "cell_type": "code",
   "execution_count": 14,
   "metadata": {},
   "outputs": [
    {
     "name": "stdout",
     "output_type": "stream",
     "text": [
      "El informe es:\n",
      "    Tanque1: 75%\n",
      "    Tanque2: 90%\n",
      "    Tanque3: 70% \n",
      "    Promedio: 78.33333333333333%\n",
      "    \n"
     ]
    }
   ],
   "source": [
    "def informe_combustible(tanque1, tanque2, tanque3):\n",
    "    return f'''El informe es:\n",
    "    Tanque1: {tanque1}%\n",
    "    Tanque2: {tanque2}%\n",
    "    Tanque3: {tanque3}% \n",
    "    Promedio: {promedio([tanque1, tanque2, tanque3])}%\n",
    "    '''\n",
    "print(informe_combustible(75, 90, 70))"
   ]
  },
  {
   "cell_type": "markdown",
   "metadata": {},
   "source": [
    "## Ejercicio 2: Trabajo con argumentos de palabra clave"
   ]
  },
  {
   "cell_type": "code",
   "execution_count": 17,
   "metadata": {},
   "outputs": [
    {
     "name": "stdout",
     "output_type": "stream",
     "text": [
      "\n",
      "    Mision: Marte\n",
      "    Total de tiempo de viaje: 130 minutes\n",
      "    Total de tanque: 700000 gallons\n",
      "    \n"
     ]
    }
   ],
   "source": [
    "def informe_mision(tiempo_prelanzamiento, tiempo_vuelo, destino, tanque_externo, tanque_interno):\n",
    "    return f'''\n",
    "    Mision: {destino}\n",
    "    Total de tiempo de viaje: {tiempo_vuelo + tiempo_prelanzamiento} minutes\n",
    "    Total de tanque: {tanque_externo + tanque_interno} gallons\n",
    "    '''\n",
    "print(informe_mision(10,120,'Marte',200000,500000))"
   ]
  },
  {
   "cell_type": "code",
   "execution_count": 19,
   "metadata": {},
   "outputs": [
    {
     "name": "stdout",
     "output_type": "stream",
     "text": [
      "\n",
      "    Mision: Marte\n",
      "    Total de tiempo de viaje: 110 minutes\n",
      "    Combustible sobrante: 70000\n",
      "    \n"
     ]
    }
   ],
   "source": [
    "def informe_mision(destino, *minutes, **fuel_reservoirs):\n",
    "    return f'''\n",
    "    Mision: {destino}\n",
    "    Total de tiempo de viaje: {sum(minutes)} minutes\n",
    "    Combustible: {sum(fuel_reservoirs.values())}\n",
    "    ''' \n",
    "print(informe_mision('Marte', 10, 100, Interno=20000, Externo=50000))"
   ]
  },
  {
   "cell_type": "code",
   "execution_count": 40,
   "metadata": {},
   "outputs": [
    {
     "name": "stdout",
     "output_type": "stream",
     "text": [
      "\n",
      "    Mision: Marte\n",
      "    Total de tiempo de viaje: 165 minutes\n",
      "    Combustible: 500000\n",
      "    tanque_interno --> 300000 galones perdidos\n",
      "tanque_externo --> 200000 galones perdidos\n",
      "\n"
     ]
    }
   ],
   "source": [
    "def informe_mision(destino, *minutes, **fuel_reservoirs):\n",
    "    Reporte_interno = f\"\"\"\n",
    "    Mision: {destino}\n",
    "    Total de tiempo de viaje: {sum(minutes)} minutes\n",
    "    Combustible: {sum(fuel_reservoirs.values())}\n",
    "    \"\"\"\n",
    "    for nombre_tanque, galones in fuel_reservoirs.items():\n",
    "        Reporte_interno += f\"{nombre_tanque} --> {galones} galones perdidos\\n\"\n",
    "    return Reporte_interno\n",
    "\n",
    "print(informe_mision(\"Marte\", 10, 100, 55, tanque_interno=300000, tanque_externo=200000))"
   ]
  }
 ],
 "metadata": {
  "interpreter": {
   "hash": "4304f6bc5eebad234419d76768779671d9545636572d216fede5823ef97d51ac"
  },
  "kernelspec": {
   "display_name": "Python 3.10.2 64-bit",
   "language": "python",
   "name": "python3"
  },
  "language_info": {
   "codemirror_mode": {
    "name": "ipython",
    "version": 3
   },
   "file_extension": ".py",
   "mimetype": "text/x-python",
   "name": "python",
   "nbconvert_exporter": "python",
   "pygments_lexer": "ipython3",
   "version": "3.10.2"
  },
  "orig_nbformat": 4
 },
 "nbformat": 4,
 "nbformat_minor": 2
}
