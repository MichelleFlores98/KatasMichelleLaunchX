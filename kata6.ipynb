{
 "cells": [
  {
   "cell_type": "code",
   "execution_count": null,
   "metadata": {},
   "outputs": [],
   "source": []
  },
  {
   "cell_type": "markdown",
   "metadata": {},
   "source": [
    "## Ejercicio 1: Crear y usar listas de Python"
   ]
  },
  {
   "cell_type": "code",
   "execution_count": 11,
   "metadata": {},
   "outputs": [
    {
     "name": "stdout",
     "output_type": "stream",
     "text": [
      "Los planetas son 8\n",
      "Actualmente los planetas son 9\n",
      "El ultimo planeta es Pluton\n"
     ]
    }
   ],
   "source": [
    "planets =['Mercurio', 'Venus', 'Tierra', 'Marte', 'Jupiter', 'Saturno', 'Urano', 'Neptuno']\n",
    "print('Los planetas son', len(planets))\n",
    "planets.append('Pluton')\n",
    "totalplanets = len(planets)\n",
    "print('Actualmente los planetas son', (totalplanets))\n",
    "print('El ultimo planeta es', planets[-1])\n",
    "\n"
   ]
  },
  {
   "cell_type": "markdown",
   "metadata": {},
   "source": [
    "## Ejercicio 2: Trabajando con datos de una lista"
   ]
  },
  {
   "cell_type": "code",
   "execution_count": 1,
   "metadata": {},
   "outputs": [
    {
     "name": "stdout",
     "output_type": "stream",
     "text": [
      "Mars Antes de ese planeta, los planetas mas cercanos al sol son:\n",
      "['Mercury', 'Venus', 'Earth']\n",
      "Mars Despues de ese planeta, los planetas mas lejanos del son:\n",
      "['Jupiter', 'Saturn', 'Neptune']\n"
     ]
    }
   ],
   "source": [
    "planets = ['Mercury', 'Venus', 'Earth', 'Mars', 'Jupiter', 'Saturn', 'Neptune']\n",
    "\n",
    "name_planet = input('Escribe el nombre del planeta empezando por Mayuscula')\n",
    "planet_select = planets.index(name_planet)\n",
    "print(name_planet + (' Antes de ese planeta, los planetas mas cercanos al sol son:'))\n",
    "print(planets[0: planet_select])\n",
    "\n",
    "print(name_planet + (' Despues de ese planeta, los planetas mas lejanos del son:'))\n",
    "print(planets[planet_select + 1:])\n"
   ]
  }
 ],
 "metadata": {
  "interpreter": {
   "hash": "9bf2ca0f4a7adc3ce2f237ca763c1538d3ef289a4e7face3612a01cdae9f6807"
  },
  "kernelspec": {
   "display_name": "Python 3.10.2 64-bit",
   "language": "python",
   "name": "python3"
  },
  "language_info": {
   "codemirror_mode": {
    "name": "ipython",
    "version": 3
   },
   "file_extension": ".py",
   "mimetype": "text/x-python",
   "name": "python",
   "nbconvert_exporter": "python",
   "pygments_lexer": "ipython3",
   "version": "3.10.2"
  },
  "orig_nbformat": 4
 },
 "nbformat": 4,
 "nbformat_minor": 2
}
